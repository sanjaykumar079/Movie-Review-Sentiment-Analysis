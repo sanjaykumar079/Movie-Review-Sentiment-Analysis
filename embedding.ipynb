{
 "cells": [
  {
   "cell_type": "code",
   "execution_count": 1,
   "metadata": {},
   "outputs": [
    {
     "name": "stderr",
     "output_type": "stream",
     "text": [
      "\n",
      "A module that was compiled using NumPy 1.x cannot be run in\n",
      "NumPy 2.1.3 as it may crash. To support both 1.x and 2.x\n",
      "versions of NumPy, modules must be compiled with NumPy 2.0.\n",
      "Some module may need to rebuild instead e.g. with 'pybind11>=2.12'.\n",
      "\n",
      "If you are a user of the module, the easiest solution will be to\n",
      "downgrade to 'numpy<2' or try to upgrade the affected module.\n",
      "We expect that some modules will need time to support NumPy 2.\n",
      "\n",
      "Traceback (most recent call last):  File \"<frozen runpy>\", line 198, in _run_module_as_main\n",
      "  File \"<frozen runpy>\", line 88, in _run_code\n",
      "  File \"C:\\Users\\sanja\\AppData\\Roaming\\Python\\Python312\\site-packages\\ipykernel_launcher.py\", line 18, in <module>\n",
      "    app.launch_new_instance()\n",
      "  File \"C:\\Users\\sanja\\AppData\\Roaming\\Python\\Python312\\site-packages\\traitlets\\config\\application.py\", line 1075, in launch_instance\n",
      "    app.start()\n",
      "  File \"C:\\Users\\sanja\\AppData\\Roaming\\Python\\Python312\\site-packages\\ipykernel\\kernelapp.py\", line 739, in start\n",
      "    self.io_loop.start()\n",
      "  File \"C:\\Users\\sanja\\AppData\\Roaming\\Python\\Python312\\site-packages\\tornado\\platform\\asyncio.py\", line 205, in start\n",
      "    self.asyncio_loop.run_forever()\n",
      "  File \"c:\\Users\\sanja\\anaconda3\\Lib\\asyncio\\base_events.py\", line 641, in run_forever\n",
      "    self._run_once()\n",
      "  File \"c:\\Users\\sanja\\anaconda3\\Lib\\asyncio\\base_events.py\", line 1986, in _run_once\n",
      "    handle._run()\n",
      "  File \"c:\\Users\\sanja\\anaconda3\\Lib\\asyncio\\events.py\", line 88, in _run\n",
      "    self._context.run(self._callback, *self._args)\n",
      "  File \"C:\\Users\\sanja\\AppData\\Roaming\\Python\\Python312\\site-packages\\ipykernel\\kernelbase.py\", line 545, in dispatch_queue\n",
      "    await self.process_one()\n",
      "  File \"C:\\Users\\sanja\\AppData\\Roaming\\Python\\Python312\\site-packages\\ipykernel\\kernelbase.py\", line 534, in process_one\n",
      "    await dispatch(*args)\n",
      "  File \"C:\\Users\\sanja\\AppData\\Roaming\\Python\\Python312\\site-packages\\ipykernel\\kernelbase.py\", line 437, in dispatch_shell\n",
      "    await result\n",
      "  File \"C:\\Users\\sanja\\AppData\\Roaming\\Python\\Python312\\site-packages\\ipykernel\\ipkernel.py\", line 362, in execute_request\n",
      "    await super().execute_request(stream, ident, parent)\n",
      "  File \"C:\\Users\\sanja\\AppData\\Roaming\\Python\\Python312\\site-packages\\ipykernel\\kernelbase.py\", line 778, in execute_request\n",
      "    reply_content = await reply_content\n",
      "  File \"C:\\Users\\sanja\\AppData\\Roaming\\Python\\Python312\\site-packages\\ipykernel\\ipkernel.py\", line 449, in do_execute\n",
      "    res = shell.run_cell(\n",
      "  File \"C:\\Users\\sanja\\AppData\\Roaming\\Python\\Python312\\site-packages\\ipykernel\\zmqshell.py\", line 549, in run_cell\n",
      "    return super().run_cell(*args, **kwargs)\n",
      "  File \"C:\\Users\\sanja\\AppData\\Roaming\\Python\\Python312\\site-packages\\IPython\\core\\interactiveshell.py\", line 3075, in run_cell\n",
      "    result = self._run_cell(\n",
      "  File \"C:\\Users\\sanja\\AppData\\Roaming\\Python\\Python312\\site-packages\\IPython\\core\\interactiveshell.py\", line 3130, in _run_cell\n",
      "    result = runner(coro)\n",
      "  File \"C:\\Users\\sanja\\AppData\\Roaming\\Python\\Python312\\site-packages\\IPython\\core\\async_helpers.py\", line 128, in _pseudo_sync_runner\n",
      "    coro.send(None)\n",
      "  File \"C:\\Users\\sanja\\AppData\\Roaming\\Python\\Python312\\site-packages\\IPython\\core\\interactiveshell.py\", line 3334, in run_cell_async\n",
      "    has_raised = await self.run_ast_nodes(code_ast.body, cell_name,\n",
      "  File \"C:\\Users\\sanja\\AppData\\Roaming\\Python\\Python312\\site-packages\\IPython\\core\\interactiveshell.py\", line 3517, in run_ast_nodes\n",
      "    if await self.run_code(code, result, async_=asy):\n",
      "  File \"C:\\Users\\sanja\\AppData\\Roaming\\Python\\Python312\\site-packages\\IPython\\core\\interactiveshell.py\", line 3577, in run_code\n",
      "    exec(code_obj, self.user_global_ns, self.user_ns)\n",
      "  File \"C:\\Users\\sanja\\AppData\\Local\\Temp\\ipykernel_2492\\912283924.py\", line 1, in <module>\n",
      "    from tensorflow.keras.preprocessing.text import one_hot\n",
      "  File \"c:\\Users\\sanja\\anaconda3\\Lib\\site-packages\\tensorflow\\__init__.py\", line 468, in <module>\n",
      "    importlib.import_module(\"keras.src.optimizers\")\n",
      "  File \"c:\\Users\\sanja\\anaconda3\\Lib\\importlib\\__init__.py\", line 90, in import_module\n",
      "    return _bootstrap._gcd_import(name[level:], package, level)\n",
      "  File \"c:\\Users\\sanja\\anaconda3\\Lib\\site-packages\\keras\\__init__.py\", line 7, in <module>\n",
      "    from keras import _tf_keras as _tf_keras\n",
      "  File \"c:\\Users\\sanja\\anaconda3\\Lib\\site-packages\\keras\\_tf_keras\\__init__.py\", line 1, in <module>\n",
      "    from keras._tf_keras import keras\n",
      "  File \"c:\\Users\\sanja\\anaconda3\\Lib\\site-packages\\keras\\_tf_keras\\keras\\__init__.py\", line 7, in <module>\n",
      "    from keras import activations as activations\n",
      "  File \"c:\\Users\\sanja\\anaconda3\\Lib\\site-packages\\keras\\activations\\__init__.py\", line 7, in <module>\n",
      "    from keras.src.activations import deserialize as deserialize\n",
      "  File \"c:\\Users\\sanja\\anaconda3\\Lib\\site-packages\\keras\\src\\__init__.py\", line 8, in <module>\n",
      "    from keras.src import models\n",
      "  File \"c:\\Users\\sanja\\anaconda3\\Lib\\site-packages\\keras\\src\\models\\__init__.py\", line 1, in <module>\n",
      "    from keras.src.models.functional import Functional\n",
      "  File \"c:\\Users\\sanja\\anaconda3\\Lib\\site-packages\\keras\\src\\models\\functional.py\", line 16, in <module>\n",
      "    from keras.src.models.model import Model\n",
      "  File \"c:\\Users\\sanja\\anaconda3\\Lib\\site-packages\\keras\\src\\models\\model.py\", line 12, in <module>\n",
      "    from keras.src.trainers import trainer as base_trainer\n",
      "  File \"c:\\Users\\sanja\\anaconda3\\Lib\\site-packages\\keras\\src\\trainers\\trainer.py\", line 14, in <module>\n",
      "    from keras.src.trainers.data_adapters import data_adapter_utils\n",
      "  File \"c:\\Users\\sanja\\anaconda3\\Lib\\site-packages\\keras\\src\\trainers\\data_adapters\\__init__.py\", line 4, in <module>\n",
      "    from keras.src.trainers.data_adapters import array_data_adapter\n",
      "  File \"c:\\Users\\sanja\\anaconda3\\Lib\\site-packages\\keras\\src\\trainers\\data_adapters\\array_data_adapter.py\", line 7, in <module>\n",
      "    from keras.src.trainers.data_adapters import array_slicing\n",
      "  File \"c:\\Users\\sanja\\anaconda3\\Lib\\site-packages\\keras\\src\\trainers\\data_adapters\\array_slicing.py\", line 12, in <module>\n",
      "    import pandas\n",
      "  File \"C:\\Users\\sanja\\AppData\\Roaming\\Python\\Python312\\site-packages\\pandas\\__init__.py\", line 62, in <module>\n",
      "    from pandas.core.api import (\n",
      "  File \"C:\\Users\\sanja\\AppData\\Roaming\\Python\\Python312\\site-packages\\pandas\\core\\api.py\", line 28, in <module>\n",
      "    from pandas.core.arrays import Categorical\n",
      "  File \"C:\\Users\\sanja\\AppData\\Roaming\\Python\\Python312\\site-packages\\pandas\\core\\arrays\\__init__.py\", line 1, in <module>\n",
      "    from pandas.core.arrays.arrow import ArrowExtensionArray\n",
      "  File \"C:\\Users\\sanja\\AppData\\Roaming\\Python\\Python312\\site-packages\\pandas\\core\\arrays\\arrow\\__init__.py\", line 5, in <module>\n",
      "    from pandas.core.arrays.arrow.array import ArrowExtensionArray\n",
      "  File \"C:\\Users\\sanja\\AppData\\Roaming\\Python\\Python312\\site-packages\\pandas\\core\\arrays\\arrow\\array.py\", line 50, in <module>\n",
      "    from pandas.core import (\n",
      "  File \"C:\\Users\\sanja\\AppData\\Roaming\\Python\\Python312\\site-packages\\pandas\\core\\ops\\__init__.py\", line 8, in <module>\n",
      "    from pandas.core.ops.array_ops import (\n",
      "  File \"C:\\Users\\sanja\\AppData\\Roaming\\Python\\Python312\\site-packages\\pandas\\core\\ops\\array_ops.py\", line 56, in <module>\n",
      "    from pandas.core.computation import expressions\n",
      "  File \"C:\\Users\\sanja\\AppData\\Roaming\\Python\\Python312\\site-packages\\pandas\\core\\computation\\expressions.py\", line 21, in <module>\n",
      "    from pandas.core.computation.check import NUMEXPR_INSTALLED\n",
      "  File \"C:\\Users\\sanja\\AppData\\Roaming\\Python\\Python312\\site-packages\\pandas\\core\\computation\\check.py\", line 5, in <module>\n",
      "    ne = import_optional_dependency(\"numexpr\", errors=\"warn\")\n",
      "  File \"C:\\Users\\sanja\\AppData\\Roaming\\Python\\Python312\\site-packages\\pandas\\compat\\_optional.py\", line 135, in import_optional_dependency\n",
      "    module = importlib.import_module(name)\n",
      "  File \"c:\\Users\\sanja\\anaconda3\\Lib\\importlib\\__init__.py\", line 90, in import_module\n",
      "    return _bootstrap._gcd_import(name[level:], package, level)\n",
      "  File \"c:\\Users\\sanja\\anaconda3\\Lib\\site-packages\\numexpr\\__init__.py\", line 24, in <module>\n",
      "    from numexpr.interpreter import MAX_THREADS, use_vml, __BLOCK_SIZE1__\n"
     ]
    },
    {
     "ename": "AttributeError",
     "evalue": "_ARRAY_API not found",
     "output_type": "error",
     "traceback": [
      "\u001b[1;31m---------------------------------------------------------------------------\u001b[0m",
      "\u001b[1;31mAttributeError\u001b[0m                            Traceback (most recent call last)",
      "\u001b[1;31mAttributeError\u001b[0m: _ARRAY_API not found"
     ]
    },
    {
     "name": "stderr",
     "output_type": "stream",
     "text": [
      "\n",
      "A module that was compiled using NumPy 1.x cannot be run in\n",
      "NumPy 2.1.3 as it may crash. To support both 1.x and 2.x\n",
      "versions of NumPy, modules must be compiled with NumPy 2.0.\n",
      "Some module may need to rebuild instead e.g. with 'pybind11>=2.12'.\n",
      "\n",
      "If you are a user of the module, the easiest solution will be to\n",
      "downgrade to 'numpy<2' or try to upgrade the affected module.\n",
      "We expect that some modules will need time to support NumPy 2.\n",
      "\n",
      "Traceback (most recent call last):  File \"<frozen runpy>\", line 198, in _run_module_as_main\n",
      "  File \"<frozen runpy>\", line 88, in _run_code\n",
      "  File \"C:\\Users\\sanja\\AppData\\Roaming\\Python\\Python312\\site-packages\\ipykernel_launcher.py\", line 18, in <module>\n",
      "    app.launch_new_instance()\n",
      "  File \"C:\\Users\\sanja\\AppData\\Roaming\\Python\\Python312\\site-packages\\traitlets\\config\\application.py\", line 1075, in launch_instance\n",
      "    app.start()\n",
      "  File \"C:\\Users\\sanja\\AppData\\Roaming\\Python\\Python312\\site-packages\\ipykernel\\kernelapp.py\", line 739, in start\n",
      "    self.io_loop.start()\n",
      "  File \"C:\\Users\\sanja\\AppData\\Roaming\\Python\\Python312\\site-packages\\tornado\\platform\\asyncio.py\", line 205, in start\n",
      "    self.asyncio_loop.run_forever()\n",
      "  File \"c:\\Users\\sanja\\anaconda3\\Lib\\asyncio\\base_events.py\", line 641, in run_forever\n",
      "    self._run_once()\n",
      "  File \"c:\\Users\\sanja\\anaconda3\\Lib\\asyncio\\base_events.py\", line 1986, in _run_once\n",
      "    handle._run()\n",
      "  File \"c:\\Users\\sanja\\anaconda3\\Lib\\asyncio\\events.py\", line 88, in _run\n",
      "    self._context.run(self._callback, *self._args)\n",
      "  File \"C:\\Users\\sanja\\AppData\\Roaming\\Python\\Python312\\site-packages\\ipykernel\\kernelbase.py\", line 545, in dispatch_queue\n",
      "    await self.process_one()\n",
      "  File \"C:\\Users\\sanja\\AppData\\Roaming\\Python\\Python312\\site-packages\\ipykernel\\kernelbase.py\", line 534, in process_one\n",
      "    await dispatch(*args)\n",
      "  File \"C:\\Users\\sanja\\AppData\\Roaming\\Python\\Python312\\site-packages\\ipykernel\\kernelbase.py\", line 437, in dispatch_shell\n",
      "    await result\n",
      "  File \"C:\\Users\\sanja\\AppData\\Roaming\\Python\\Python312\\site-packages\\ipykernel\\ipkernel.py\", line 362, in execute_request\n",
      "    await super().execute_request(stream, ident, parent)\n",
      "  File \"C:\\Users\\sanja\\AppData\\Roaming\\Python\\Python312\\site-packages\\ipykernel\\kernelbase.py\", line 778, in execute_request\n",
      "    reply_content = await reply_content\n",
      "  File \"C:\\Users\\sanja\\AppData\\Roaming\\Python\\Python312\\site-packages\\ipykernel\\ipkernel.py\", line 449, in do_execute\n",
      "    res = shell.run_cell(\n",
      "  File \"C:\\Users\\sanja\\AppData\\Roaming\\Python\\Python312\\site-packages\\ipykernel\\zmqshell.py\", line 549, in run_cell\n",
      "    return super().run_cell(*args, **kwargs)\n",
      "  File \"C:\\Users\\sanja\\AppData\\Roaming\\Python\\Python312\\site-packages\\IPython\\core\\interactiveshell.py\", line 3075, in run_cell\n",
      "    result = self._run_cell(\n",
      "  File \"C:\\Users\\sanja\\AppData\\Roaming\\Python\\Python312\\site-packages\\IPython\\core\\interactiveshell.py\", line 3130, in _run_cell\n",
      "    result = runner(coro)\n",
      "  File \"C:\\Users\\sanja\\AppData\\Roaming\\Python\\Python312\\site-packages\\IPython\\core\\async_helpers.py\", line 128, in _pseudo_sync_runner\n",
      "    coro.send(None)\n",
      "  File \"C:\\Users\\sanja\\AppData\\Roaming\\Python\\Python312\\site-packages\\IPython\\core\\interactiveshell.py\", line 3334, in run_cell_async\n",
      "    has_raised = await self.run_ast_nodes(code_ast.body, cell_name,\n",
      "  File \"C:\\Users\\sanja\\AppData\\Roaming\\Python\\Python312\\site-packages\\IPython\\core\\interactiveshell.py\", line 3517, in run_ast_nodes\n",
      "    if await self.run_code(code, result, async_=asy):\n",
      "  File \"C:\\Users\\sanja\\AppData\\Roaming\\Python\\Python312\\site-packages\\IPython\\core\\interactiveshell.py\", line 3577, in run_code\n",
      "    exec(code_obj, self.user_global_ns, self.user_ns)\n",
      "  File \"C:\\Users\\sanja\\AppData\\Local\\Temp\\ipykernel_2492\\912283924.py\", line 1, in <module>\n",
      "    from tensorflow.keras.preprocessing.text import one_hot\n",
      "  File \"c:\\Users\\sanja\\anaconda3\\Lib\\site-packages\\tensorflow\\__init__.py\", line 468, in <module>\n",
      "    importlib.import_module(\"keras.src.optimizers\")\n",
      "  File \"c:\\Users\\sanja\\anaconda3\\Lib\\importlib\\__init__.py\", line 90, in import_module\n",
      "    return _bootstrap._gcd_import(name[level:], package, level)\n",
      "  File \"c:\\Users\\sanja\\anaconda3\\Lib\\site-packages\\keras\\__init__.py\", line 7, in <module>\n",
      "    from keras import _tf_keras as _tf_keras\n",
      "  File \"c:\\Users\\sanja\\anaconda3\\Lib\\site-packages\\keras\\_tf_keras\\__init__.py\", line 1, in <module>\n",
      "    from keras._tf_keras import keras\n",
      "  File \"c:\\Users\\sanja\\anaconda3\\Lib\\site-packages\\keras\\_tf_keras\\keras\\__init__.py\", line 7, in <module>\n",
      "    from keras import activations as activations\n",
      "  File \"c:\\Users\\sanja\\anaconda3\\Lib\\site-packages\\keras\\activations\\__init__.py\", line 7, in <module>\n",
      "    from keras.src.activations import deserialize as deserialize\n",
      "  File \"c:\\Users\\sanja\\anaconda3\\Lib\\site-packages\\keras\\src\\__init__.py\", line 8, in <module>\n",
      "    from keras.src import models\n",
      "  File \"c:\\Users\\sanja\\anaconda3\\Lib\\site-packages\\keras\\src\\models\\__init__.py\", line 1, in <module>\n",
      "    from keras.src.models.functional import Functional\n",
      "  File \"c:\\Users\\sanja\\anaconda3\\Lib\\site-packages\\keras\\src\\models\\functional.py\", line 16, in <module>\n",
      "    from keras.src.models.model import Model\n",
      "  File \"c:\\Users\\sanja\\anaconda3\\Lib\\site-packages\\keras\\src\\models\\model.py\", line 12, in <module>\n",
      "    from keras.src.trainers import trainer as base_trainer\n",
      "  File \"c:\\Users\\sanja\\anaconda3\\Lib\\site-packages\\keras\\src\\trainers\\trainer.py\", line 14, in <module>\n",
      "    from keras.src.trainers.data_adapters import data_adapter_utils\n",
      "  File \"c:\\Users\\sanja\\anaconda3\\Lib\\site-packages\\keras\\src\\trainers\\data_adapters\\__init__.py\", line 4, in <module>\n",
      "    from keras.src.trainers.data_adapters import array_data_adapter\n",
      "  File \"c:\\Users\\sanja\\anaconda3\\Lib\\site-packages\\keras\\src\\trainers\\data_adapters\\array_data_adapter.py\", line 7, in <module>\n",
      "    from keras.src.trainers.data_adapters import array_slicing\n",
      "  File \"c:\\Users\\sanja\\anaconda3\\Lib\\site-packages\\keras\\src\\trainers\\data_adapters\\array_slicing.py\", line 12, in <module>\n",
      "    import pandas\n",
      "  File \"C:\\Users\\sanja\\AppData\\Roaming\\Python\\Python312\\site-packages\\pandas\\__init__.py\", line 62, in <module>\n",
      "    from pandas.core.api import (\n",
      "  File \"C:\\Users\\sanja\\AppData\\Roaming\\Python\\Python312\\site-packages\\pandas\\core\\api.py\", line 28, in <module>\n",
      "    from pandas.core.arrays import Categorical\n",
      "  File \"C:\\Users\\sanja\\AppData\\Roaming\\Python\\Python312\\site-packages\\pandas\\core\\arrays\\__init__.py\", line 1, in <module>\n",
      "    from pandas.core.arrays.arrow import ArrowExtensionArray\n",
      "  File \"C:\\Users\\sanja\\AppData\\Roaming\\Python\\Python312\\site-packages\\pandas\\core\\arrays\\arrow\\__init__.py\", line 5, in <module>\n",
      "    from pandas.core.arrays.arrow.array import ArrowExtensionArray\n",
      "  File \"C:\\Users\\sanja\\AppData\\Roaming\\Python\\Python312\\site-packages\\pandas\\core\\arrays\\arrow\\array.py\", line 64, in <module>\n",
      "    from pandas.core.arrays.masked import BaseMaskedArray\n",
      "  File \"C:\\Users\\sanja\\AppData\\Roaming\\Python\\Python312\\site-packages\\pandas\\core\\arrays\\masked.py\", line 60, in <module>\n",
      "    from pandas.core import (\n",
      "  File \"C:\\Users\\sanja\\AppData\\Roaming\\Python\\Python312\\site-packages\\pandas\\core\\nanops.py\", line 52, in <module>\n",
      "    bn = import_optional_dependency(\"bottleneck\", errors=\"warn\")\n",
      "  File \"C:\\Users\\sanja\\AppData\\Roaming\\Python\\Python312\\site-packages\\pandas\\compat\\_optional.py\", line 135, in import_optional_dependency\n",
      "    module = importlib.import_module(name)\n",
      "  File \"c:\\Users\\sanja\\anaconda3\\Lib\\importlib\\__init__.py\", line 90, in import_module\n",
      "    return _bootstrap._gcd_import(name[level:], package, level)\n",
      "  File \"c:\\Users\\sanja\\anaconda3\\Lib\\site-packages\\bottleneck\\__init__.py\", line 7, in <module>\n",
      "    from .move import (move_argmax, move_argmin, move_max, move_mean, move_median,\n"
     ]
    },
    {
     "ename": "ImportError",
     "evalue": "\nA module that was compiled using NumPy 1.x cannot be run in\nNumPy 2.1.3 as it may crash. To support both 1.x and 2.x\nversions of NumPy, modules must be compiled with NumPy 2.0.\nSome module may need to rebuild instead e.g. with 'pybind11>=2.12'.\n\nIf you are a user of the module, the easiest solution will be to\ndowngrade to 'numpy<2' or try to upgrade the affected module.\nWe expect that some modules will need time to support NumPy 2.\n\n",
     "output_type": "error",
     "traceback": [
      "\u001b[1;31m---------------------------------------------------------------------------\u001b[0m",
      "\u001b[1;31mImportError\u001b[0m                               Traceback (most recent call last)",
      "File \u001b[1;32mc:\\Users\\sanja\\anaconda3\\Lib\\site-packages\\numpy\\core\\_multiarray_umath.py:44\u001b[0m, in \u001b[0;36m__getattr__\u001b[1;34m(attr_name)\u001b[0m\n\u001b[0;32m     39\u001b[0m     \u001b[38;5;66;03m# Also print the message (with traceback).  This is because old versions\u001b[39;00m\n\u001b[0;32m     40\u001b[0m     \u001b[38;5;66;03m# of NumPy unfortunately set up the import to replace (and hide) the\u001b[39;00m\n\u001b[0;32m     41\u001b[0m     \u001b[38;5;66;03m# error.  The traceback shouldn't be needed, but e.g. pytest plugins\u001b[39;00m\n\u001b[0;32m     42\u001b[0m     \u001b[38;5;66;03m# seem to swallow it and we should be failing anyway...\u001b[39;00m\n\u001b[0;32m     43\u001b[0m     sys\u001b[38;5;241m.\u001b[39mstderr\u001b[38;5;241m.\u001b[39mwrite(msg \u001b[38;5;241m+\u001b[39m tb_msg)\n\u001b[1;32m---> 44\u001b[0m     \u001b[38;5;28;01mraise\u001b[39;00m \u001b[38;5;167;01mImportError\u001b[39;00m(msg)\n\u001b[0;32m     46\u001b[0m ret \u001b[38;5;241m=\u001b[39m \u001b[38;5;28mgetattr\u001b[39m(_multiarray_umath, attr_name, \u001b[38;5;28;01mNone\u001b[39;00m)\n\u001b[0;32m     47\u001b[0m \u001b[38;5;28;01mif\u001b[39;00m ret \u001b[38;5;129;01mis\u001b[39;00m \u001b[38;5;28;01mNone\u001b[39;00m:\n",
      "\u001b[1;31mImportError\u001b[0m: \nA module that was compiled using NumPy 1.x cannot be run in\nNumPy 2.1.3 as it may crash. To support both 1.x and 2.x\nversions of NumPy, modules must be compiled with NumPy 2.0.\nSome module may need to rebuild instead e.g. with 'pybind11>=2.12'.\n\nIf you are a user of the module, the easiest solution will be to\ndowngrade to 'numpy<2' or try to upgrade the affected module.\nWe expect that some modules will need time to support NumPy 2.\n\n"
     ]
    }
   ],
   "source": [
    "from tensorflow.keras.preprocessing.text import one_hot"
   ]
  },
  {
   "cell_type": "code",
   "execution_count": 2,
   "metadata": {},
   "outputs": [],
   "source": [
    "### sentences\n",
    "sent=[  'the glass of milk',\n",
    "     'the glass of juice',\n",
    "     'the cup of tea',\n",
    "    'I am a good boy',\n",
    "     'I am a good developer',\n",
    "     'understand the meaning of words',\n",
    "     'your videos are good',]"
   ]
  },
  {
   "cell_type": "code",
   "execution_count": 3,
   "metadata": {},
   "outputs": [
    {
     "data": {
      "text/plain": [
       "['the glass of milk',\n",
       " 'the glass of juice',\n",
       " 'the cup of tea',\n",
       " 'I am a good boy',\n",
       " 'I am a good developer',\n",
       " 'understand the meaning of words',\n",
       " 'your videos are good']"
      ]
     },
     "execution_count": 3,
     "metadata": {},
     "output_type": "execute_result"
    }
   ],
   "source": [
    "sent"
   ]
  },
  {
   "cell_type": "code",
   "execution_count": 4,
   "metadata": {},
   "outputs": [],
   "source": [
    "## Define the vocabulary size\n",
    "voc_size=10000"
   ]
  },
  {
   "cell_type": "code",
   "execution_count": 5,
   "metadata": {},
   "outputs": [
    {
     "data": {
      "text/plain": [
       "['the glass of milk',\n",
       " 'the glass of juice',\n",
       " 'the cup of tea',\n",
       " 'I am a good boy',\n",
       " 'I am a good developer',\n",
       " 'understand the meaning of words',\n",
       " 'your videos are good']"
      ]
     },
     "execution_count": 5,
     "metadata": {},
     "output_type": "execute_result"
    }
   ],
   "source": [
    "sent"
   ]
  },
  {
   "cell_type": "code",
   "execution_count": 6,
   "metadata": {},
   "outputs": [
    {
     "data": {
      "text/plain": [
       "[[2420, 7748, 4033, 972],\n",
       " [2420, 7748, 4033, 8236],\n",
       " [2420, 6551, 4033, 2896],\n",
       " [2477, 499, 7123, 6392, 5770],\n",
       " [2477, 499, 7123, 6392, 2280],\n",
       " [1657, 2420, 116, 4033, 2440],\n",
       " [4911, 7118, 3715, 6392]]"
      ]
     },
     "execution_count": 6,
     "metadata": {},
     "output_type": "execute_result"
    }
   ],
   "source": [
    "### One Hot Representation\n",
    "one_hot_repr=[one_hot(words,voc_size)for words in sent]\n",
    "one_hot_repr"
   ]
  },
  {
   "cell_type": "code",
   "execution_count": 7,
   "metadata": {},
   "outputs": [],
   "source": [
    "## word Embedding Representation\n",
    "\n",
    "from tensorflow.keras.layers import Embedding\n",
    "#from tensorflow.keras.processing.sequence import pad_sequences\n",
    "from tensorflow.keras.utils import pad_sequences\n",
    "from tensorflow.keras.models import Sequential"
   ]
  },
  {
   "cell_type": "code",
   "execution_count": 8,
   "metadata": {},
   "outputs": [],
   "source": [
    "import numpy as np"
   ]
  },
  {
   "cell_type": "code",
   "execution_count": 9,
   "metadata": {},
   "outputs": [
    {
     "name": "stdout",
     "output_type": "stream",
     "text": [
      "[[   0    0    0    0 2420 7748 4033  972]\n",
      " [   0    0    0    0 2420 7748 4033 8236]\n",
      " [   0    0    0    0 2420 6551 4033 2896]\n",
      " [   0    0    0 2477  499 7123 6392 5770]\n",
      " [   0    0    0 2477  499 7123 6392 2280]\n",
      " [   0    0    0 1657 2420  116 4033 2440]\n",
      " [   0    0    0    0 4911 7118 3715 6392]]\n"
     ]
    }
   ],
   "source": [
    "sent_length=8\n",
    "embedded_docs=pad_sequences(one_hot_repr,padding='pre',maxlen=sent_length)\n",
    "print(embedded_docs)"
   ]
  },
  {
   "cell_type": "code",
   "execution_count": 10,
   "metadata": {},
   "outputs": [],
   "source": [
    "## feature representation\n",
    "dim=10"
   ]
  },
  {
   "cell_type": "code",
   "execution_count": 11,
   "metadata": {},
   "outputs": [
    {
     "name": "stderr",
     "output_type": "stream",
     "text": [
      "c:\\Users\\sanja\\anaconda3\\Lib\\site-packages\\keras\\src\\layers\\core\\embedding.py:97: UserWarning: Argument `input_length` is deprecated. Just remove it.\n",
      "  warnings.warn(\n"
     ]
    }
   ],
   "source": [
    "model=Sequential()\n",
    "model.add(Embedding(voc_size,dim,input_length=sent_length))\n",
    "model.compile('adam','mse')"
   ]
  },
  {
   "cell_type": "code",
   "execution_count": 12,
   "metadata": {},
   "outputs": [
    {
     "data": {
      "text/html": [
       "<pre style=\"white-space:pre;overflow-x:auto;line-height:normal;font-family:Menlo,'DejaVu Sans Mono',consolas,'Courier New',monospace\"><span style=\"font-weight: bold\">Model: \"sequential\"</span>\n",
       "</pre>\n"
      ],
      "text/plain": [
       "\u001b[1mModel: \"sequential\"\u001b[0m\n"
      ]
     },
     "metadata": {},
     "output_type": "display_data"
    },
    {
     "data": {
      "text/html": [
       "<pre style=\"white-space:pre;overflow-x:auto;line-height:normal;font-family:Menlo,'DejaVu Sans Mono',consolas,'Courier New',monospace\">┏━━━━━━━━━━━━━━━━━━━━━━━━━━━━━━━━━┳━━━━━━━━━━━━━━━━━━━━━━━━┳━━━━━━━━━━━━━━━┓\n",
       "┃<span style=\"font-weight: bold\"> Layer (type)                    </span>┃<span style=\"font-weight: bold\"> Output Shape           </span>┃<span style=\"font-weight: bold\">       Param # </span>┃\n",
       "┡━━━━━━━━━━━━━━━━━━━━━━━━━━━━━━━━━╇━━━━━━━━━━━━━━━━━━━━━━━━╇━━━━━━━━━━━━━━━┩\n",
       "│ embedding (<span style=\"color: #0087ff; text-decoration-color: #0087ff\">Embedding</span>)           │ ?                      │   <span style=\"color: #00af00; text-decoration-color: #00af00\">0</span> (unbuilt) │\n",
       "└─────────────────────────────────┴────────────────────────┴───────────────┘\n",
       "</pre>\n"
      ],
      "text/plain": [
       "┏━━━━━━━━━━━━━━━━━━━━━━━━━━━━━━━━━┳━━━━━━━━━━━━━━━━━━━━━━━━┳━━━━━━━━━━━━━━━┓\n",
       "┃\u001b[1m \u001b[0m\u001b[1mLayer (type)                   \u001b[0m\u001b[1m \u001b[0m┃\u001b[1m \u001b[0m\u001b[1mOutput Shape          \u001b[0m\u001b[1m \u001b[0m┃\u001b[1m \u001b[0m\u001b[1m      Param #\u001b[0m\u001b[1m \u001b[0m┃\n",
       "┡━━━━━━━━━━━━━━━━━━━━━━━━━━━━━━━━━╇━━━━━━━━━━━━━━━━━━━━━━━━╇━━━━━━━━━━━━━━━┩\n",
       "│ embedding (\u001b[38;5;33mEmbedding\u001b[0m)           │ ?                      │   \u001b[38;5;34m0\u001b[0m (unbuilt) │\n",
       "└─────────────────────────────────┴────────────────────────┴───────────────┘\n"
      ]
     },
     "metadata": {},
     "output_type": "display_data"
    },
    {
     "data": {
      "text/html": [
       "<pre style=\"white-space:pre;overflow-x:auto;line-height:normal;font-family:Menlo,'DejaVu Sans Mono',consolas,'Courier New',monospace\"><span style=\"font-weight: bold\"> Total params: </span><span style=\"color: #00af00; text-decoration-color: #00af00\">0</span> (0.00 B)\n",
       "</pre>\n"
      ],
      "text/plain": [
       "\u001b[1m Total params: \u001b[0m\u001b[38;5;34m0\u001b[0m (0.00 B)\n"
      ]
     },
     "metadata": {},
     "output_type": "display_data"
    },
    {
     "data": {
      "text/html": [
       "<pre style=\"white-space:pre;overflow-x:auto;line-height:normal;font-family:Menlo,'DejaVu Sans Mono',consolas,'Courier New',monospace\"><span style=\"font-weight: bold\"> Trainable params: </span><span style=\"color: #00af00; text-decoration-color: #00af00\">0</span> (0.00 B)\n",
       "</pre>\n"
      ],
      "text/plain": [
       "\u001b[1m Trainable params: \u001b[0m\u001b[38;5;34m0\u001b[0m (0.00 B)\n"
      ]
     },
     "metadata": {},
     "output_type": "display_data"
    },
    {
     "data": {
      "text/html": [
       "<pre style=\"white-space:pre;overflow-x:auto;line-height:normal;font-family:Menlo,'DejaVu Sans Mono',consolas,'Courier New',monospace\"><span style=\"font-weight: bold\"> Non-trainable params: </span><span style=\"color: #00af00; text-decoration-color: #00af00\">0</span> (0.00 B)\n",
       "</pre>\n"
      ],
      "text/plain": [
       "\u001b[1m Non-trainable params: \u001b[0m\u001b[38;5;34m0\u001b[0m (0.00 B)\n"
      ]
     },
     "metadata": {},
     "output_type": "display_data"
    }
   ],
   "source": [
    "model.summary()"
   ]
  },
  {
   "cell_type": "code",
   "execution_count": 13,
   "metadata": {},
   "outputs": [
    {
     "name": "stdout",
     "output_type": "stream",
     "text": [
      "\u001b[1m1/1\u001b[0m \u001b[32m━━━━━━━━━━━━━━━━━━━━\u001b[0m\u001b[37m\u001b[0m \u001b[1m0s\u001b[0m 175ms/step\n"
     ]
    },
    {
     "data": {
      "text/plain": [
       "array([[[ 2.00754888e-02,  4.30688523e-02,  2.15079822e-02,\n",
       "          1.56677850e-02,  9.51015949e-03, -3.95252556e-03,\n",
       "         -4.99315262e-02, -4.61714342e-03,  2.95831226e-02,\n",
       "          6.95078447e-03],\n",
       "        [ 2.00754888e-02,  4.30688523e-02,  2.15079822e-02,\n",
       "          1.56677850e-02,  9.51015949e-03, -3.95252556e-03,\n",
       "         -4.99315262e-02, -4.61714342e-03,  2.95831226e-02,\n",
       "          6.95078447e-03],\n",
       "        [ 2.00754888e-02,  4.30688523e-02,  2.15079822e-02,\n",
       "          1.56677850e-02,  9.51015949e-03, -3.95252556e-03,\n",
       "         -4.99315262e-02, -4.61714342e-03,  2.95831226e-02,\n",
       "          6.95078447e-03],\n",
       "        [ 2.00754888e-02,  4.30688523e-02,  2.15079822e-02,\n",
       "          1.56677850e-02,  9.51015949e-03, -3.95252556e-03,\n",
       "         -4.99315262e-02, -4.61714342e-03,  2.95831226e-02,\n",
       "          6.95078447e-03],\n",
       "        [-6.66984171e-03,  2.88226940e-02, -4.65205796e-02,\n",
       "          2.72548683e-02,  1.56774372e-03, -3.29636708e-02,\n",
       "          1.57197379e-02,  1.10426657e-02,  1.14578716e-02,\n",
       "         -3.25873047e-02],\n",
       "        [-2.72274017e-03, -1.53275579e-03,  1.28754042e-02,\n",
       "         -1.97712537e-02, -1.39815435e-02, -4.85463738e-02,\n",
       "          4.02118452e-02, -4.05885205e-02, -3.12669165e-02,\n",
       "         -4.74147908e-02],\n",
       "        [-2.14201938e-02, -3.04768328e-02, -3.84943560e-03,\n",
       "          3.08912881e-02,  1.10947378e-02, -1.76877603e-02,\n",
       "         -3.90535370e-02,  4.75079678e-02, -1.52806044e-02,\n",
       "          3.14839594e-02],\n",
       "        [-2.82458309e-02, -6.84640557e-03,  1.62815116e-02,\n",
       "         -4.89349477e-02, -4.73654531e-02, -3.18081304e-03,\n",
       "         -1.92009937e-02, -2.59940866e-02,  1.81206204e-02,\n",
       "         -1.85628049e-02]],\n",
       "\n",
       "       [[ 2.00754888e-02,  4.30688523e-02,  2.15079822e-02,\n",
       "          1.56677850e-02,  9.51015949e-03, -3.95252556e-03,\n",
       "         -4.99315262e-02, -4.61714342e-03,  2.95831226e-02,\n",
       "          6.95078447e-03],\n",
       "        [ 2.00754888e-02,  4.30688523e-02,  2.15079822e-02,\n",
       "          1.56677850e-02,  9.51015949e-03, -3.95252556e-03,\n",
       "         -4.99315262e-02, -4.61714342e-03,  2.95831226e-02,\n",
       "          6.95078447e-03],\n",
       "        [ 2.00754888e-02,  4.30688523e-02,  2.15079822e-02,\n",
       "          1.56677850e-02,  9.51015949e-03, -3.95252556e-03,\n",
       "         -4.99315262e-02, -4.61714342e-03,  2.95831226e-02,\n",
       "          6.95078447e-03],\n",
       "        [ 2.00754888e-02,  4.30688523e-02,  2.15079822e-02,\n",
       "          1.56677850e-02,  9.51015949e-03, -3.95252556e-03,\n",
       "         -4.99315262e-02, -4.61714342e-03,  2.95831226e-02,\n",
       "          6.95078447e-03],\n",
       "        [-6.66984171e-03,  2.88226940e-02, -4.65205796e-02,\n",
       "          2.72548683e-02,  1.56774372e-03, -3.29636708e-02,\n",
       "          1.57197379e-02,  1.10426657e-02,  1.14578716e-02,\n",
       "         -3.25873047e-02],\n",
       "        [-2.72274017e-03, -1.53275579e-03,  1.28754042e-02,\n",
       "         -1.97712537e-02, -1.39815435e-02, -4.85463738e-02,\n",
       "          4.02118452e-02, -4.05885205e-02, -3.12669165e-02,\n",
       "         -4.74147908e-02],\n",
       "        [-2.14201938e-02, -3.04768328e-02, -3.84943560e-03,\n",
       "          3.08912881e-02,  1.10947378e-02, -1.76877603e-02,\n",
       "         -3.90535370e-02,  4.75079678e-02, -1.52806044e-02,\n",
       "          3.14839594e-02],\n",
       "        [-9.93026420e-03, -6.06986135e-03,  8.93700868e-04,\n",
       "          1.86704136e-02,  4.19870056e-02,  2.30245665e-03,\n",
       "         -2.09785700e-02, -4.26327251e-02,  1.87842287e-02,\n",
       "         -2.77248155e-02]],\n",
       "\n",
       "       [[ 2.00754888e-02,  4.30688523e-02,  2.15079822e-02,\n",
       "          1.56677850e-02,  9.51015949e-03, -3.95252556e-03,\n",
       "         -4.99315262e-02, -4.61714342e-03,  2.95831226e-02,\n",
       "          6.95078447e-03],\n",
       "        [ 2.00754888e-02,  4.30688523e-02,  2.15079822e-02,\n",
       "          1.56677850e-02,  9.51015949e-03, -3.95252556e-03,\n",
       "         -4.99315262e-02, -4.61714342e-03,  2.95831226e-02,\n",
       "          6.95078447e-03],\n",
       "        [ 2.00754888e-02,  4.30688523e-02,  2.15079822e-02,\n",
       "          1.56677850e-02,  9.51015949e-03, -3.95252556e-03,\n",
       "         -4.99315262e-02, -4.61714342e-03,  2.95831226e-02,\n",
       "          6.95078447e-03],\n",
       "        [ 2.00754888e-02,  4.30688523e-02,  2.15079822e-02,\n",
       "          1.56677850e-02,  9.51015949e-03, -3.95252556e-03,\n",
       "         -4.99315262e-02, -4.61714342e-03,  2.95831226e-02,\n",
       "          6.95078447e-03],\n",
       "        [-6.66984171e-03,  2.88226940e-02, -4.65205796e-02,\n",
       "          2.72548683e-02,  1.56774372e-03, -3.29636708e-02,\n",
       "          1.57197379e-02,  1.10426657e-02,  1.14578716e-02,\n",
       "         -3.25873047e-02],\n",
       "        [-8.11289623e-03, -2.78265402e-03, -2.11056601e-02,\n",
       "          3.10447849e-02, -1.47775523e-02, -4.94539738e-03,\n",
       "         -8.54579359e-03,  4.80836071e-02, -5.49467653e-03,\n",
       "         -3.83862741e-02],\n",
       "        [-2.14201938e-02, -3.04768328e-02, -3.84943560e-03,\n",
       "          3.08912881e-02,  1.10947378e-02, -1.76877603e-02,\n",
       "         -3.90535370e-02,  4.75079678e-02, -1.52806044e-02,\n",
       "          3.14839594e-02],\n",
       "        [ 3.00080888e-02, -3.45468521e-02,  3.86585705e-02,\n",
       "         -4.28586118e-02, -2.72279978e-02, -1.82918198e-02,\n",
       "         -1.22431517e-02, -1.50900111e-02,  1.27200596e-02,\n",
       "         -5.65040857e-04]],\n",
       "\n",
       "       [[ 2.00754888e-02,  4.30688523e-02,  2.15079822e-02,\n",
       "          1.56677850e-02,  9.51015949e-03, -3.95252556e-03,\n",
       "         -4.99315262e-02, -4.61714342e-03,  2.95831226e-02,\n",
       "          6.95078447e-03],\n",
       "        [ 2.00754888e-02,  4.30688523e-02,  2.15079822e-02,\n",
       "          1.56677850e-02,  9.51015949e-03, -3.95252556e-03,\n",
       "         -4.99315262e-02, -4.61714342e-03,  2.95831226e-02,\n",
       "          6.95078447e-03],\n",
       "        [ 2.00754888e-02,  4.30688523e-02,  2.15079822e-02,\n",
       "          1.56677850e-02,  9.51015949e-03, -3.95252556e-03,\n",
       "         -4.99315262e-02, -4.61714342e-03,  2.95831226e-02,\n",
       "          6.95078447e-03],\n",
       "        [ 3.13953273e-02, -3.80219594e-02, -4.84270230e-02,\n",
       "          8.63610581e-03, -4.49082740e-02,  3.91790606e-02,\n",
       "          6.73527643e-03,  1.37207024e-02,  2.37360112e-02,\n",
       "         -4.23541069e-02],\n",
       "        [ 3.48767526e-02, -2.90251896e-03,  3.26703228e-02,\n",
       "          1.90854184e-02, -5.45714051e-03,  3.10622193e-02,\n",
       "          2.14774869e-02, -2.21824292e-02,  4.21935357e-02,\n",
       "          1.25749819e-02],\n",
       "        [-3.30623612e-02,  7.01125711e-03,  4.61619236e-02,\n",
       "          2.13186480e-02,  2.35682838e-02, -3.56513746e-02,\n",
       "         -2.33745575e-02,  4.36344855e-02, -3.70005146e-02,\n",
       "         -2.46410016e-02],\n",
       "        [ 4.26237471e-02, -3.43751907e-03,  2.18093134e-02,\n",
       "          4.89042886e-02,  4.92865555e-02, -2.87114270e-02,\n",
       "          3.78381871e-02,  1.33438967e-02, -4.41088527e-03,\n",
       "         -4.24479246e-02],\n",
       "        [ 7.00813532e-03, -1.39240846e-02,  2.36079581e-02,\n",
       "         -4.71233204e-03,  1.93755962e-02,  6.97969273e-03,\n",
       "         -2.78650876e-02, -2.84231305e-02,  1.90348141e-02,\n",
       "          7.54546002e-03]],\n",
       "\n",
       "       [[ 2.00754888e-02,  4.30688523e-02,  2.15079822e-02,\n",
       "          1.56677850e-02,  9.51015949e-03, -3.95252556e-03,\n",
       "         -4.99315262e-02, -4.61714342e-03,  2.95831226e-02,\n",
       "          6.95078447e-03],\n",
       "        [ 2.00754888e-02,  4.30688523e-02,  2.15079822e-02,\n",
       "          1.56677850e-02,  9.51015949e-03, -3.95252556e-03,\n",
       "         -4.99315262e-02, -4.61714342e-03,  2.95831226e-02,\n",
       "          6.95078447e-03],\n",
       "        [ 2.00754888e-02,  4.30688523e-02,  2.15079822e-02,\n",
       "          1.56677850e-02,  9.51015949e-03, -3.95252556e-03,\n",
       "         -4.99315262e-02, -4.61714342e-03,  2.95831226e-02,\n",
       "          6.95078447e-03],\n",
       "        [ 3.13953273e-02, -3.80219594e-02, -4.84270230e-02,\n",
       "          8.63610581e-03, -4.49082740e-02,  3.91790606e-02,\n",
       "          6.73527643e-03,  1.37207024e-02,  2.37360112e-02,\n",
       "         -4.23541069e-02],\n",
       "        [ 3.48767526e-02, -2.90251896e-03,  3.26703228e-02,\n",
       "          1.90854184e-02, -5.45714051e-03,  3.10622193e-02,\n",
       "          2.14774869e-02, -2.21824292e-02,  4.21935357e-02,\n",
       "          1.25749819e-02],\n",
       "        [-3.30623612e-02,  7.01125711e-03,  4.61619236e-02,\n",
       "          2.13186480e-02,  2.35682838e-02, -3.56513746e-02,\n",
       "         -2.33745575e-02,  4.36344855e-02, -3.70005146e-02,\n",
       "         -2.46410016e-02],\n",
       "        [ 4.26237471e-02, -3.43751907e-03,  2.18093134e-02,\n",
       "          4.89042886e-02,  4.92865555e-02, -2.87114270e-02,\n",
       "          3.78381871e-02,  1.33438967e-02, -4.41088527e-03,\n",
       "         -4.24479246e-02],\n",
       "        [ 2.01313160e-02, -3.80265824e-02,  2.06837803e-03,\n",
       "          3.35797705e-02, -9.54979658e-03, -4.04401049e-02,\n",
       "          2.17875093e-03, -1.31638162e-02, -8.21877643e-03,\n",
       "          4.02386114e-03]],\n",
       "\n",
       "       [[ 2.00754888e-02,  4.30688523e-02,  2.15079822e-02,\n",
       "          1.56677850e-02,  9.51015949e-03, -3.95252556e-03,\n",
       "         -4.99315262e-02, -4.61714342e-03,  2.95831226e-02,\n",
       "          6.95078447e-03],\n",
       "        [ 2.00754888e-02,  4.30688523e-02,  2.15079822e-02,\n",
       "          1.56677850e-02,  9.51015949e-03, -3.95252556e-03,\n",
       "         -4.99315262e-02, -4.61714342e-03,  2.95831226e-02,\n",
       "          6.95078447e-03],\n",
       "        [ 2.00754888e-02,  4.30688523e-02,  2.15079822e-02,\n",
       "          1.56677850e-02,  9.51015949e-03, -3.95252556e-03,\n",
       "         -4.99315262e-02, -4.61714342e-03,  2.95831226e-02,\n",
       "          6.95078447e-03],\n",
       "        [-3.45433727e-02,  3.74194235e-03,  2.64906399e-02,\n",
       "          9.01496410e-03, -2.53073573e-02,  8.96270201e-03,\n",
       "          1.02311969e-02,  2.50750296e-02, -3.16499844e-02,\n",
       "         -1.73781067e-03],\n",
       "        [-6.66984171e-03,  2.88226940e-02, -4.65205796e-02,\n",
       "          2.72548683e-02,  1.56774372e-03, -3.29636708e-02,\n",
       "          1.57197379e-02,  1.10426657e-02,  1.14578716e-02,\n",
       "         -3.25873047e-02],\n",
       "        [-3.76325473e-02,  7.92131573e-03, -9.32253897e-04,\n",
       "          4.28862013e-02,  8.62014294e-03,  1.21650696e-02,\n",
       "         -1.03330500e-02,  4.27469276e-02, -1.81062445e-02,\n",
       "         -2.77393702e-02],\n",
       "        [-2.14201938e-02, -3.04768328e-02, -3.84943560e-03,\n",
       "          3.08912881e-02,  1.10947378e-02, -1.76877603e-02,\n",
       "         -3.90535370e-02,  4.75079678e-02, -1.52806044e-02,\n",
       "          3.14839594e-02],\n",
       "        [-2.85972711e-02, -8.97683203e-04, -2.25054268e-02,\n",
       "          2.76139863e-02,  3.96138690e-02,  3.50999124e-02,\n",
       "         -1.28305182e-02,  1.49693340e-03, -5.52546978e-03,\n",
       "          4.32430767e-02]],\n",
       "\n",
       "       [[ 2.00754888e-02,  4.30688523e-02,  2.15079822e-02,\n",
       "          1.56677850e-02,  9.51015949e-03, -3.95252556e-03,\n",
       "         -4.99315262e-02, -4.61714342e-03,  2.95831226e-02,\n",
       "          6.95078447e-03],\n",
       "        [ 2.00754888e-02,  4.30688523e-02,  2.15079822e-02,\n",
       "          1.56677850e-02,  9.51015949e-03, -3.95252556e-03,\n",
       "         -4.99315262e-02, -4.61714342e-03,  2.95831226e-02,\n",
       "          6.95078447e-03],\n",
       "        [ 2.00754888e-02,  4.30688523e-02,  2.15079822e-02,\n",
       "          1.56677850e-02,  9.51015949e-03, -3.95252556e-03,\n",
       "         -4.99315262e-02, -4.61714342e-03,  2.95831226e-02,\n",
       "          6.95078447e-03],\n",
       "        [ 2.00754888e-02,  4.30688523e-02,  2.15079822e-02,\n",
       "          1.56677850e-02,  9.51015949e-03, -3.95252556e-03,\n",
       "         -4.99315262e-02, -4.61714342e-03,  2.95831226e-02,\n",
       "          6.95078447e-03],\n",
       "        [-6.87843561e-03,  1.39225237e-02, -2.33277436e-02,\n",
       "         -3.86337154e-02,  2.53543258e-05, -9.54424217e-03,\n",
       "          1.46904625e-02,  5.46380132e-03, -4.44048643e-02,\n",
       "         -2.11050045e-02],\n",
       "        [ 4.20254208e-02,  8.24404880e-03,  4.80406322e-02,\n",
       "          2.64260508e-02, -2.17346903e-02,  4.66061868e-02,\n",
       "          3.00508402e-02, -2.68818382e-02,  2.01314427e-02,\n",
       "         -3.68187316e-02],\n",
       "        [-5.27476147e-03,  2.32725777e-02, -3.70957740e-02,\n",
       "         -2.94400584e-02, -4.89700586e-04,  1.34565942e-02,\n",
       "          2.24350132e-02, -2.91781314e-02,  2.98721083e-02,\n",
       "         -3.75009701e-03],\n",
       "        [ 4.26237471e-02, -3.43751907e-03,  2.18093134e-02,\n",
       "          4.89042886e-02,  4.92865555e-02, -2.87114270e-02,\n",
       "          3.78381871e-02,  1.33438967e-02, -4.41088527e-03,\n",
       "         -4.24479246e-02]]], dtype=float32)"
      ]
     },
     "execution_count": 13,
     "metadata": {},
     "output_type": "execute_result"
    }
   ],
   "source": [
    "model.predict(embedded_docs)"
   ]
  },
  {
   "cell_type": "code",
   "execution_count": 17,
   "metadata": {},
   "outputs": [
    {
     "data": {
      "text/plain": [
       "array([   0,    0,    0,    0, 2420, 7748, 4033,  972], dtype=int32)"
      ]
     },
     "execution_count": 17,
     "metadata": {},
     "output_type": "execute_result"
    }
   ],
   "source": [
    "embedded_docs[0]"
   ]
  },
  {
   "cell_type": "code",
   "execution_count": 20,
   "metadata": {},
   "outputs": [
    {
     "name": "stdout",
     "output_type": "stream",
     "text": [
      "\u001b[1m1/1\u001b[0m \u001b[32m━━━━━━━━━━━━━━━━━━━━\u001b[0m\u001b[37m\u001b[0m \u001b[1m0s\u001b[0m 57ms/step\n",
      "[[[ 0.02007549  0.04306885  0.02150798  0.01566778  0.00951016\n",
      "   -0.00395253 -0.04993153 -0.00461714  0.02958312  0.00695078]\n",
      "  [ 0.02007549  0.04306885  0.02150798  0.01566778  0.00951016\n",
      "   -0.00395253 -0.04993153 -0.00461714  0.02958312  0.00695078]\n",
      "  [ 0.02007549  0.04306885  0.02150798  0.01566778  0.00951016\n",
      "   -0.00395253 -0.04993153 -0.00461714  0.02958312  0.00695078]\n",
      "  [ 0.02007549  0.04306885  0.02150798  0.01566778  0.00951016\n",
      "   -0.00395253 -0.04993153 -0.00461714  0.02958312  0.00695078]\n",
      "  [-0.00666984  0.02882269 -0.04652058  0.02725487  0.00156774\n",
      "   -0.03296367  0.01571974  0.01104267  0.01145787 -0.0325873 ]\n",
      "  [-0.00272274 -0.00153276  0.0128754  -0.01977125 -0.01398154\n",
      "   -0.04854637  0.04021185 -0.04058852 -0.03126692 -0.04741479]\n",
      "  [-0.02142019 -0.03047683 -0.00384944  0.03089129  0.01109474\n",
      "   -0.01768776 -0.03905354  0.04750797 -0.0152806   0.03148396]\n",
      "  [-0.02824583 -0.00684641  0.01628151 -0.04893495 -0.04736545\n",
      "   -0.00318081 -0.01920099 -0.02599409  0.01812062 -0.0185628 ]]]\n"
     ]
    }
   ],
   "source": [
    "import numpy as np\n",
    "\n",
    "# Add batch dimension\n",
    "sample = np.expand_dims(embedded_docs[0], axis=0)\n",
    "\n",
    "# Predict\n",
    "prediction = model.predict(sample)\n",
    "print(prediction)\n"
   ]
  },
  {
   "cell_type": "code",
   "execution_count": null,
   "metadata": {},
   "outputs": [],
   "source": []
  }
 ],
 "metadata": {
  "kernelspec": {
   "display_name": "base",
   "language": "python",
   "name": "python3"
  },
  "language_info": {
   "codemirror_mode": {
    "name": "ipython",
    "version": 3
   },
   "file_extension": ".py",
   "mimetype": "text/x-python",
   "name": "python",
   "nbconvert_exporter": "python",
   "pygments_lexer": "ipython3",
   "version": "3.12.7"
  }
 },
 "nbformat": 4,
 "nbformat_minor": 2
}
